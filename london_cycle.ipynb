{
 "cells": [
  {
   "cell_type": "code",
   "execution_count": 15,
   "metadata": {},
   "outputs": [
    {
     "data": {
      "text/html": [
       "<div>\n",
       "<style scoped>\n",
       "    .dataframe tbody tr th:only-of-type {\n",
       "        vertical-align: middle;\n",
       "    }\n",
       "\n",
       "    .dataframe tbody tr th {\n",
       "        vertical-align: top;\n",
       "    }\n",
       "\n",
       "    .dataframe thead th {\n",
       "        text-align: right;\n",
       "    }\n",
       "</style>\n",
       "<table border=\"1\" class=\"dataframe\">\n",
       "  <thead>\n",
       "    <tr style=\"text-align: right;\">\n",
       "      <th></th>\n",
       "      <th>id</th>\n",
       "      <th>installed</th>\n",
       "      <th>latitude</th>\n",
       "      <th>locked</th>\n",
       "      <th>longitude</th>\n",
       "      <th>name</th>\n",
       "      <th>bikes_count</th>\n",
       "      <th>docks_count</th>\n",
       "      <th>nbEmptyDocks</th>\n",
       "      <th>temporary</th>\n",
       "      <th>terminal_name</th>\n",
       "      <th>install_date</th>\n",
       "      <th>removal_date</th>\n",
       "    </tr>\n",
       "  </thead>\n",
       "  <tbody>\n",
       "    <tr>\n",
       "      <th>0</th>\n",
       "      <td>404</td>\n",
       "      <td>True</td>\n",
       "      <td>51.502042</td>\n",
       "      <td>False</td>\n",
       "      <td>-0.184400</td>\n",
       "      <td>Palace Gate, Kensington Gardens</td>\n",
       "      <td>0</td>\n",
       "      <td>13</td>\n",
       "      <td>13</td>\n",
       "      <td>False</td>\n",
       "      <td>1110</td>\n",
       "      <td>2011-03-09</td>\n",
       "      <td>NaN</td>\n",
       "    </tr>\n",
       "    <tr>\n",
       "      <th>1</th>\n",
       "      <td>82</td>\n",
       "      <td>True</td>\n",
       "      <td>51.514274</td>\n",
       "      <td>False</td>\n",
       "      <td>-0.111257</td>\n",
       "      <td>Chancery Lane, Holborn</td>\n",
       "      <td>0</td>\n",
       "      <td>15</td>\n",
       "      <td>14</td>\n",
       "      <td>False</td>\n",
       "      <td>3453</td>\n",
       "      <td>2010-07-13</td>\n",
       "      <td>NaN</td>\n",
       "    </tr>\n",
       "    <tr>\n",
       "      <th>2</th>\n",
       "      <td>402</td>\n",
       "      <td>True</td>\n",
       "      <td>51.522892</td>\n",
       "      <td>False</td>\n",
       "      <td>-0.171682</td>\n",
       "      <td>Penfold Street, Marylebone</td>\n",
       "      <td>0</td>\n",
       "      <td>15</td>\n",
       "      <td>15</td>\n",
       "      <td>False</td>\n",
       "      <td>10625</td>\n",
       "      <td>2011-03-08</td>\n",
       "      <td>NaN</td>\n",
       "    </tr>\n",
       "    <tr>\n",
       "      <th>3</th>\n",
       "      <td>733</td>\n",
       "      <td>True</td>\n",
       "      <td>51.505426</td>\n",
       "      <td>False</td>\n",
       "      <td>-0.150817</td>\n",
       "      <td>Park Lane, Mayfair</td>\n",
       "      <td>0</td>\n",
       "      <td>18</td>\n",
       "      <td>18</td>\n",
       "      <td>False</td>\n",
       "      <td>300093</td>\n",
       "      <td>2013-11-26</td>\n",
       "      <td>NaN</td>\n",
       "    </tr>\n",
       "    <tr>\n",
       "      <th>4</th>\n",
       "      <td>105</td>\n",
       "      <td>True</td>\n",
       "      <td>51.515530</td>\n",
       "      <td>False</td>\n",
       "      <td>-0.190241</td>\n",
       "      <td>Westbourne Grove, Bayswater</td>\n",
       "      <td>0</td>\n",
       "      <td>26</td>\n",
       "      <td>26</td>\n",
       "      <td>False</td>\n",
       "      <td>1041</td>\n",
       "      <td>2010-07-14</td>\n",
       "      <td>NaN</td>\n",
       "    </tr>\n",
       "    <tr>\n",
       "      <th>...</th>\n",
       "      <td>...</td>\n",
       "      <td>...</td>\n",
       "      <td>...</td>\n",
       "      <td>...</td>\n",
       "      <td>...</td>\n",
       "      <td>...</td>\n",
       "      <td>...</td>\n",
       "      <td>...</td>\n",
       "      <td>...</td>\n",
       "      <td>...</td>\n",
       "      <td>...</td>\n",
       "      <td>...</td>\n",
       "      <td>...</td>\n",
       "    </tr>\n",
       "    <tr>\n",
       "      <th>784</th>\n",
       "      <td>247</td>\n",
       "      <td>True</td>\n",
       "      <td>51.530529</td>\n",
       "      <td>False</td>\n",
       "      <td>-0.167515</td>\n",
       "      <td>St. John's Wood Church, The Regent's Park</td>\n",
       "      <td>44</td>\n",
       "      <td>50</td>\n",
       "      <td>6</td>\n",
       "      <td>False</td>\n",
       "      <td>1091</td>\n",
       "      <td>2010-07-20</td>\n",
       "      <td>NaN</td>\n",
       "    </tr>\n",
       "    <tr>\n",
       "      <th>785</th>\n",
       "      <td>144</td>\n",
       "      <td>True</td>\n",
       "      <td>51.488940</td>\n",
       "      <td>False</td>\n",
       "      <td>-0.111436</td>\n",
       "      <td>Kennington Cross, Kennington</td>\n",
       "      <td>45</td>\n",
       "      <td>47</td>\n",
       "      <td>2</td>\n",
       "      <td>False</td>\n",
       "      <td>1093</td>\n",
       "      <td>2010-07-15</td>\n",
       "      <td>NaN</td>\n",
       "    </tr>\n",
       "    <tr>\n",
       "      <th>786</th>\n",
       "      <td>681</td>\n",
       "      <td>True</td>\n",
       "      <td>51.473037</td>\n",
       "      <td>False</td>\n",
       "      <td>-0.214750</td>\n",
       "      <td>Bishop's Avenue, Fulham</td>\n",
       "      <td>46</td>\n",
       "      <td>46</td>\n",
       "      <td>0</td>\n",
       "      <td>False</td>\n",
       "      <td>200043</td>\n",
       "      <td>2013-11-06</td>\n",
       "      <td>NaN</td>\n",
       "    </tr>\n",
       "    <tr>\n",
       "      <th>787</th>\n",
       "      <td>362</td>\n",
       "      <td>True</td>\n",
       "      <td>51.536264</td>\n",
       "      <td>False</td>\n",
       "      <td>-0.133952</td>\n",
       "      <td>Royal College Street, Camden Town</td>\n",
       "      <td>54</td>\n",
       "      <td>57</td>\n",
       "      <td>2</td>\n",
       "      <td>False</td>\n",
       "      <td>2686</td>\n",
       "      <td>2010-11-18</td>\n",
       "      <td>NaN</td>\n",
       "    </tr>\n",
       "    <tr>\n",
       "      <th>788</th>\n",
       "      <td>671</td>\n",
       "      <td>True</td>\n",
       "      <td>51.475089</td>\n",
       "      <td>False</td>\n",
       "      <td>-0.201968</td>\n",
       "      <td>Parsons Green Station, Parsons Green</td>\n",
       "      <td>54</td>\n",
       "      <td>56</td>\n",
       "      <td>2</td>\n",
       "      <td>False</td>\n",
       "      <td>300052</td>\n",
       "      <td>2013-10-31</td>\n",
       "      <td>NaN</td>\n",
       "    </tr>\n",
       "  </tbody>\n",
       "</table>\n",
       "<p>789 rows × 13 columns</p>\n",
       "</div>"
      ],
      "text/plain": [
       "      id  installed   latitude  locked  longitude  \\\n",
       "0    404       True  51.502042   False  -0.184400   \n",
       "1     82       True  51.514274   False  -0.111257   \n",
       "2    402       True  51.522892   False  -0.171682   \n",
       "3    733       True  51.505426   False  -0.150817   \n",
       "4    105       True  51.515530   False  -0.190241   \n",
       "..   ...        ...        ...     ...        ...   \n",
       "784  247       True  51.530529   False  -0.167515   \n",
       "785  144       True  51.488940   False  -0.111436   \n",
       "786  681       True  51.473037   False  -0.214750   \n",
       "787  362       True  51.536264   False  -0.133952   \n",
       "788  671       True  51.475089   False  -0.201968   \n",
       "\n",
       "                                          name  bikes_count  docks_count  \\\n",
       "0              Palace Gate, Kensington Gardens            0           13   \n",
       "1                       Chancery Lane, Holborn            0           15   \n",
       "2                   Penfold Street, Marylebone            0           15   \n",
       "3                           Park Lane, Mayfair            0           18   \n",
       "4                  Westbourne Grove, Bayswater            0           26   \n",
       "..                                         ...          ...          ...   \n",
       "784  St. John's Wood Church, The Regent's Park           44           50   \n",
       "785               Kennington Cross, Kennington           45           47   \n",
       "786                    Bishop's Avenue, Fulham           46           46   \n",
       "787          Royal College Street, Camden Town           54           57   \n",
       "788       Parsons Green Station, Parsons Green           54           56   \n",
       "\n",
       "     nbEmptyDocks  temporary  terminal_name install_date removal_date  \n",
       "0              13      False           1110   2011-03-09          NaN  \n",
       "1              14      False           3453   2010-07-13          NaN  \n",
       "2              15      False          10625   2011-03-08          NaN  \n",
       "3              18      False         300093   2013-11-26          NaN  \n",
       "4              26      False           1041   2010-07-14          NaN  \n",
       "..            ...        ...            ...          ...          ...  \n",
       "784             6      False           1091   2010-07-20          NaN  \n",
       "785             2      False           1093   2010-07-15          NaN  \n",
       "786             0      False         200043   2013-11-06          NaN  \n",
       "787             2      False           2686   2010-11-18          NaN  \n",
       "788             2      False         300052   2013-10-31          NaN  \n",
       "\n",
       "[789 rows x 13 columns]"
      ]
     },
     "execution_count": 15,
     "metadata": {},
     "output_type": "execute_result"
    }
   ],
   "source": [
    "import pandas as pd\n",
    "df =pd.read_csv('results-station.csv')\n",
    "df"
   ]
  },
  {
   "cell_type": "code",
   "execution_count": 16,
   "metadata": {},
   "outputs": [],
   "source": [
    "from collections import defaultdict"
   ]
  },
  {
   "cell_type": "code",
   "execution_count": 18,
   "metadata": {},
   "outputs": [
    {
     "data": {
      "text/plain": [
       "789"
      ]
     },
     "execution_count": 18,
     "metadata": {},
     "output_type": "execute_result"
    }
   ],
   "source": [
    "n = len(df)\n",
    "n"
   ]
  },
  {
   "cell_type": "code",
   "execution_count": 19,
   "metadata": {},
   "outputs": [
    {
     "name": "stdout",
     "output_type": "stream",
     "text": [
      "defaultdict(<class 'int'>, {'10': 3, '13': 3, '14': 6, '15': 18, '16': 39, '17': 28, '18': 56, '19': 27, '20': 34, '21': 52, '22': 33, '23': 20, '24': 73, '25': 27, '26': 29, '27': 38, '28': 41, '29': 21, '30': 39, '31': 12, '32': 13, '33': 22, '34': 14, '35': 16, '36': 25, '37': 15, '38': 7, '39': 9, '40': 5, '41': 12, '42': 6, '43': 5, '44': 3, '45': 9, '46': 5, '47': 3, '48': 2, '49': 1, '50': 2, '51': 3, '52': 1, '53': 1, '54': 2, '55': 1, '56': 2, '57': 2, '60': 1, '63': 1, '64': 2})\n"
     ]
    }
   ],
   "source": [
    "newL = df['docks_count']\n",
    "# newL.count(0)\n",
    "M = list(set(newL))\n",
    "# print(M)\n",
    "d = defaultdict(int)\n",
    "for i in M:\n",
    "    for dock in newL:\n",
    "        if dock == i:   \n",
    "            d[str(i)] += 1\n",
    "print(d)"
   ]
  },
  {
   "cell_type": "code",
   "execution_count": 20,
   "metadata": {},
   "outputs": [
    {
     "name": "stdout",
     "output_type": "stream",
     "text": [
      "[10, 13, 14, 15, 16, 17, 18, 19, 20, 21, 22, 23, 24, 25, 26, 27, 28, 29, 30, 31, 32, 33, 34, 35, 36, 37, 38, 39, 40, 41, 42, 43, 44, 45, 46, 47, 48, 49, 50, 51, 52, 53, 54, 55, 56, 57, 60, 63, 64] 49\n",
      "[3, 3, 6, 18, 39, 28, 56, 27, 34, 52, 33, 20, 73, 27, 29, 38, 41, 21, 39, 12, 13, 22, 14, 16, 25, 15, 7, 9, 5, 12, 6, 5, 3, 9, 5, 3, 2, 1, 2, 3, 1, 1, 2, 1, 2, 2, 1, 1, 2] 49\n"
     ]
    }
   ],
   "source": [
    "docks = []\n",
    "freq_use = []\n",
    "for i, v in d.items():\n",
    "    docks.append(int(i))\n",
    "    freq_use.append(v)\n",
    "\n",
    "print(docks, len(freq_use))\n",
    "print(freq_use, len(freq_use))"
   ]
  },
  {
   "cell_type": "code",
   "execution_count": 21,
   "metadata": {},
   "outputs": [],
   "source": [
    "s1=pd.Series(docks)\n",
    "s2=pd.Series(freq_use)"
   ]
  },
  {
   "cell_type": "code",
   "execution_count": 22,
   "metadata": {},
   "outputs": [
    {
     "name": "stdout",
     "output_type": "stream",
     "text": [
      "-0.6314831126434629\n"
     ]
    }
   ],
   "source": [
    "# pandasでPearso's rを計算\n",
    "res=s1.corr(s2)   # numpy.float64 に格納\n",
    "\n",
    "# 結果\n",
    "print(res)"
   ]
  },
  {
   "cell_type": "code",
   "execution_count": 23,
   "metadata": {},
   "outputs": [
    {
     "name": "stdout",
     "output_type": "stream",
     "text": [
      "相関係数 r = -0.631483112643463\n",
      "有意確率 p = 1.1433012325246668e-06\n",
      "有意確率 p > 0.05: False\n"
     ]
    }
   ],
   "source": [
    "from scipy.stats import pearsonr\n",
    "r, p = pearsonr(s1, s2)\n",
    "print('相関係数 r = {r}'.format(r=r))\n",
    "print('有意確率 p = {p}'.format(p=p))\n",
    "print('有意確率 p > 0.05: {result}'.format(result=(p > 0.05)))\n",
    "#Uncorrelated analysis"
   ]
  },
  {
   "cell_type": "code",
   "execution_count": null,
   "metadata": {},
   "outputs": [],
   "source": []
  }
 ],
 "metadata": {
  "kernelspec": {
   "display_name": "Python 3",
   "language": "python",
   "name": "python3"
  },
  "language_info": {
   "codemirror_mode": {
    "name": "ipython",
    "version": 3
   },
   "file_extension": ".py",
   "mimetype": "text/x-python",
   "name": "python",
   "nbconvert_exporter": "python",
   "pygments_lexer": "ipython3",
   "version": "3.8.3"
  }
 },
 "nbformat": 4,
 "nbformat_minor": 4
}
